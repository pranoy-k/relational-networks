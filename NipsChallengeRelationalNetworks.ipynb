{
 "cells": [
  {
   "cell_type": "markdown",
   "metadata": {},
   "source": [
    "# NIPS Challenge"
   ]
  },
  {
   "cell_type": "markdown",
   "metadata": {},
   "source": [
    "Importing the dependencies"
   ]
  },
  {
   "cell_type": "code",
   "execution_count": 43,
   "metadata": {
    "collapsed": false
   },
   "outputs": [],
   "source": [
    "import tensorflow as tf\n",
    "import numpy as np\n",
    "import pandas as pd\n",
    "# import torch\n",
    "from tqdm import tqdm\n",
    "import matplotlib.image as mpimg\n",
    "import os\n",
    "import json\n",
    "from os.path import isfile, isdir\n",
    "import wget\n",
    "from urllib.request import urlretrieve\n",
    "import zipfile\n",
    "%matplotlib inline\n",
    "from glob import glob\n",
    "from matplotlib import pyplot\n",
    "import math\n",
    "from PIL import Image"
   ]
  },
  {
   "cell_type": "markdown",
   "metadata": {},
   "source": [
    "## 1. Process the DataSet\n",
    "\n",
    "### 1.1 Download the Dataset\n",
    "> Download the dataset from [CLEVR](https://s3-us-west-1.amazonaws.com/clevr/CLEVR_v1.0.zip) manually or run the following cell.\n",
    "\n",
    "Beware it can take up almost 18GB of your diskspace"
   ]
  },
  {
   "cell_type": "code",
   "execution_count": null,
   "metadata": {
    "collapsed": false
   },
   "outputs": [],
   "source": []
  },
  {
   "cell_type": "code",
   "execution_count": 19,
   "metadata": {
    "collapsed": false
   },
   "outputs": [],
   "source": [
    "## Downloading the dataset, Makesure your directory is the root of the Project\n",
    "\n",
    "data_zip_file = \"CLEVR_v1.0.zip\"\n",
    "DataDir = \"data/CLEVR_v1.0/\"        \n",
    "class DLProgress(tqdm):\n",
    "    last_block = 0\n",
    "\n",
    "    def hook(self, block_num=1, block_size=1, total_size=None):\n",
    "        self.total = total_size\n",
    "        self.update((block_num - self.last_block) * block_size)\n",
    "        self.last_block = block_num\n",
    "if not isfile(data_zip_file):\n",
    "    with DLProgress(unit='B', unit_scale=True, miniters=1, desc='CLEVR dataset') as pbar:\n",
    "        urlretrieve(\n",
    "            'https://s3-us-west-1.amazonaws.com/clevr/CLEVR_v1.0.zip',\n",
    "            data_zip_file,\n",
    "            pbar.hook)\n",
    "        \n",
    "if not isdir(DataDir):\n",
    "    with zipfile.ZipFile(data_zip_file,\"r\") as zip_ref:\n",
    "        zip_ref.extractall(DataDir)"
   ]
  },
  {
   "cell_type": "markdown",
   "metadata": {},
   "source": [
    "**Curating the Dataset and getting the statistics **"
   ]
  },
  {
   "cell_type": "code",
   "execution_count": 37,
   "metadata": {
    "collapsed": false
   },
   "outputs": [
    {
     "name": "stdout",
     "output_type": "stream",
     "text": [
      "The number of Train Images: 70000 , Test Images: 15000 , Val Images: 15000\n"
     ]
    }
   ],
   "source": [
    "## Counting the number of images in Train, Test and Val \n",
    "\n",
    "train_images = os.listdir (DataDir + \"/images/train/\")\n",
    "test_images = os.listdir (DataDir + \"/images/test/\")\n",
    "val_images = os.listdir (DataDir + \"/images/val/\")\n",
    "\n",
    "print(\"The number of Train Images: {} , Test Images: {} , Val Images: {}\".format(len(train_images),len(test_images),len(val_images)))    "
   ]
  },
  {
   "cell_type": "code",
   "execution_count": 30,
   "metadata": {
    "collapsed": true
   },
   "outputs": [],
   "source": [
    "## Loading the question and Answers from the JSon files \n",
    "with open((DataDir + \"/questions/CLEVR_train_questions.json\"), 'r') as f:\n",
    "    train_questions = json.load(f)\n",
    "with open((DataDir + \"/questions/CLEVR_test_questions.json\"), 'r') as f:\n",
    "    test_questions = json.load(f)\n",
    "with open((DataDir + \"/questions/CLEVR_val_questions.json\"), 'r') as f:\n",
    "    val_questions = json.load(f)    "
   ]
  },
  {
   "cell_type": "code",
   "execution_count": 31,
   "metadata": {
    "collapsed": false
   },
   "outputs": [
    {
     "name": "stdout",
     "output_type": "stream",
     "text": [
      "The number of Train Questions: 699989 , Test Questions: 149988 , Val Images: 149991\n"
     ]
    }
   ],
   "source": [
    "print(\"The number of Train Questions: {} , Test Questions: {} , Val Images: {}\".format(\n",
    "    len(train_questions['questions']),\n",
    "    len(test_questions ['questions']),\n",
    "    len(val_questions  ['questions'])))"
   ]
  },
  {
   "cell_type": "markdown",
   "metadata": {},
   "source": [
    "Looking around One of the question to understand "
   ]
  },
  {
   "cell_type": "code",
   "execution_count": 32,
   "metadata": {
    "collapsed": false
   },
   "outputs": [
    {
     "data": {
      "text/plain": [
       "{'answer': 'yes',\n",
       " 'image_filename': 'CLEVR_train_000000.png',\n",
       " 'image_index': 0,\n",
       " 'program': [{'function': 'scene', 'inputs': [], 'value_inputs': []},\n",
       "  {'function': 'filter_size', 'inputs': [0], 'value_inputs': ['large']},\n",
       "  {'function': 'filter_color', 'inputs': [1], 'value_inputs': ['green']},\n",
       "  {'function': 'count', 'inputs': [2], 'value_inputs': []},\n",
       "  {'function': 'scene', 'inputs': [], 'value_inputs': []},\n",
       "  {'function': 'filter_size', 'inputs': [4], 'value_inputs': ['large']},\n",
       "  {'function': 'filter_color', 'inputs': [5], 'value_inputs': ['purple']},\n",
       "  {'function': 'filter_material', 'inputs': [6], 'value_inputs': ['metal']},\n",
       "  {'function': 'filter_shape', 'inputs': [7], 'value_inputs': ['cube']},\n",
       "  {'function': 'count', 'inputs': [8], 'value_inputs': []},\n",
       "  {'function': 'greater_than', 'inputs': [3, 9], 'value_inputs': []}],\n",
       " 'question': 'Are there more big green things than large purple shiny cubes?',\n",
       " 'question_family_index': 2,\n",
       " 'question_index': 0,\n",
       " 'split': 'train'}"
      ]
     },
     "execution_count": 32,
     "metadata": {},
     "output_type": "execute_result"
    }
   ],
   "source": [
    "train_questions['questions'][0]"
   ]
  },
  {
   "cell_type": "markdown",
   "metadata": {},
   "source": [
    "Now that we have loaded the dataset we need to process the questions and the answers."
   ]
  },
  {
   "cell_type": "code",
   "execution_count": 38,
   "metadata": {
    "collapsed": false
   },
   "outputs": [],
   "source": [
    "train_images = [DataDir + \"images/train/\" + image for image in train_images]\n",
    "test_images  = [DataDir + \"images/test/\"  + image for image in test_images]\n",
    "val_images   = [DataDir + \"images/val/\"   + image for image in val_images]"
   ]
  },
  {
   "cell_type": "code",
   "execution_count": 50,
   "metadata": {
    "collapsed": false
   },
   "outputs": [],
   "source": [
    "show_n_images = 3\n"
   ]
  },
  {
   "cell_type": "code",
   "execution_count": 61,
   "metadata": {
    "collapsed": true
   },
   "outputs": [],
   "source": [
    "def get_batch(image_files, width, height, mode):\n",
    "    data_batch = np.array(\n",
    "        [get_image(sample_file, width, height, mode) for sample_file in image_files]).astype(np.float32)\n",
    "\n",
    "    # Make sure the images are in 4 dimensions\n",
    "    if len(data_batch.shape) < 4:\n",
    "        data_batch = data_batch.reshape(data_batch.shape + (1,))\n",
    "\n",
    "    return data_batch\n",
    "\n",
    "\n",
    "def get_image(image_path, width, height, mode):\n",
    "    \"\"\"\n",
    "    Read image from image_path\n",
    "    :param image_path: Path of image\n",
    "    :param width: Width of image\n",
    "    :param height: Height of image\n",
    "    :param mode: Mode of image\n",
    "    :return: Image data\n",
    "    \"\"\"\n",
    "    image = Image.open(image_path)\n",
    "    return np.array(image.convert(mode))\n",
    "def images_square_grid(images, mode):\n",
    "    \"\"\"\n",
    "    Save images as a square grid\n",
    "    :param images: Images to be used for the grid\n",
    "    :param mode: The mode to use for images\n",
    "    :return: Image of images in a square grid\n",
    "    \"\"\"\n",
    "    # Get maximum size for square grid of images\n",
    "    save_size = math.floor(np.sqrt(images.shape[0]))\n",
    "\n",
    "    # Scale to 0-255\n",
    "    images = (((images - images.min()) * 255) / (images.max() - images.min())).astype(np.uint8)\n",
    "\n",
    "    # Put images in a square arrangement\n",
    "    images_in_square = np.reshape(\n",
    "            images[:save_size*save_size],\n",
    "            (save_size, save_size, images.shape[1], images.shape[2], images.shape[3]))\n",
    "    if mode == 'L':\n",
    "        images_in_square = np.squeeze(images_in_square, 4)\n",
    "\n",
    "    # Combine images to grid image\n",
    "    new_im = Image.new(mode, (images.shape[1] * save_size, images.shape[2] * save_size))\n",
    "    for col_i, col_images in enumerate(images_in_square):\n",
    "        for image_i, image in enumerate(col_images):\n",
    "            im = Image.fromarray(image, mode)\n",
    "            new_im.paste(im, (col_i * images.shape[1], image_i * images.shape[2]))\n",
    "\n",
    "    return new_im"
   ]
  },
  {
   "cell_type": "code",
   "execution_count": 63,
   "metadata": {
    "collapsed": false
   },
   "outputs": [
    {
     "data": {
      "text/plain": [
       "<matplotlib.image.AxesImage at 0x7fceb56f4da0>"
      ]
     },
     "execution_count": 63,
     "metadata": {},
     "output_type": "execute_result"
    },
    {
     "data": {
      "image/png": "[encoded data removed]",
      "text/plain": [
       "<matplotlib.figure.Figure at 0x7fcee241c748>"
      ]
     },
     "metadata": {},
     "output_type": "display_data"
    }
   ],
   "source": [
    "images = get_batch(train_images[:show_n_images], 480, 320, 'RGB')\n",
    "pyplot.imshow(images_square_grid(images, 'RGB'))"
   ]
  },
  {
   "cell_type": "code",
   "execution_count": null,
   "metadata": {
    "collapsed": true
   },
   "outputs": [],
   "source": []
  }
 ],
 "metadata": {
  "anaconda-cloud": {},
  "kernelspec": {
   "display_name": "Python [default]",
   "language": "python",
   "name": "python3"
  },
  "language_info": {
   "codemirror_mode": {
    "name": "ipython",
    "version": 3
   },
   "file_extension": ".py",
   "mimetype": "text/x-python",
   "name": "python",
   "nbconvert_exporter": "python",
   "pygments_lexer": "ipython3",
   "version": "3.5.2"
  }
 },
 "nbformat": 4,
 "nbformat_minor": 2
}
